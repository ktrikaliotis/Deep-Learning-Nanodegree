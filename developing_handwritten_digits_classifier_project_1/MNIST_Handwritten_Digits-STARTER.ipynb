{
 "cells": [
  {
   "cell_type": "markdown",
   "metadata": {},
   "source": [
    "# Introduction\n",
    "\n",
    "In this project, you will build a neural network of your own design to evaluate the MNIST dataset.\n",
    "\n",
    "Some of the benchmark results on MNIST include can be found [on Yann LeCun's page](http://yann.lecun.com/exdb/mnist/) and include:\n",
    "\n",
    "88% [Lecun et al., 1998](http://yann.lecun.com/exdb/publis/pdf/lecun-98.pdf)\n",
    "95.3% [Lecun et al., 1998](http://yann.lecun.com/exdb/publis/pdf/lecun-98.pdf)\n",
    "99.65% [Ciresan et al., 2011](http://people.idsia.ch/~juergen/ijcai2011.pdf)\n",
    "\n",
    "MNIST is a great dataset for sanity checking your models, since the accuracy levels achieved by large convolutional neural networks and small linear models are both quite high. This makes it important to be familiar with the data.\n",
    "\n",
    "## Imports"
   ]
  },
  {
   "cell_type": "code",
   "execution_count": 1,
   "metadata": {},
   "outputs": [
    {
     "name": "stdout",
     "output_type": "stream",
     "text": [
      "Defaulting to user installation because normal site-packages is not writeable\n",
      "Collecting typing-extensions\n",
      "  Downloading typing_extensions-4.4.0-py3-none-any.whl (26 kB)\n",
      "Installing collected packages: typing-extensions\n",
      "Successfully installed typing-extensions-4.4.0\n",
      "Defaulting to user installation because normal site-packages is not writeable\n",
      "Collecting nb_black\n",
      "  Downloading nb_black-1.0.7.tar.gz (4.8 kB)\n",
      "Requirement already satisfied: ipython in /opt/conda/lib/python3.7/site-packages (from nb_black) (7.13.0)\n",
      "Collecting black>='19.3'\n",
      "  Downloading black-22.10.0-cp37-cp37m-manylinux_2_17_x86_64.manylinux2014_x86_64.whl (1.5 MB)\n",
      "\u001b[K     |████████████████████████████████| 1.5 MB 4.1 MB/s eta 0:00:01\n",
      "\u001b[?25hRequirement already satisfied: setuptools>=18.5 in /opt/conda/lib/python3.7/site-packages (from ipython->nb_black) (45.2.0.post20200209)\n",
      "Requirement already satisfied: traitlets>=4.2 in /opt/conda/lib/python3.7/site-packages (from ipython->nb_black) (4.3.3)\n",
      "Requirement already satisfied: prompt-toolkit!=3.0.0,!=3.0.1,<3.1.0,>=2.0.0 in /opt/conda/lib/python3.7/site-packages (from ipython->nb_black) (3.0.3)\n",
      "Requirement already satisfied: pickleshare in /opt/conda/lib/python3.7/site-packages (from ipython->nb_black) (0.7.5)\n",
      "Requirement already satisfied: pygments in /opt/conda/lib/python3.7/site-packages (from ipython->nb_black) (2.5.2)\n",
      "Requirement already satisfied: backcall in /opt/conda/lib/python3.7/site-packages (from ipython->nb_black) (0.1.0)\n",
      "Requirement already satisfied: jedi>=0.10 in /opt/conda/lib/python3.7/site-packages (from ipython->nb_black) (0.16.0)\n",
      "Requirement already satisfied: decorator in /opt/conda/lib/python3.7/site-packages (from ipython->nb_black) (4.4.2)\n",
      "Requirement already satisfied: pexpect; sys_platform != \"win32\" in /opt/conda/lib/python3.7/site-packages (from ipython->nb_black) (4.8.0)\n",
      "Collecting tomli>=1.1.0; python_full_version < \"3.11.0a7\"\n",
      "  Downloading tomli-2.0.1-py3-none-any.whl (12 kB)\n",
      "Collecting platformdirs>=2\n",
      "  Downloading platformdirs-2.5.4-py3-none-any.whl (14 kB)\n",
      "Collecting click>=8.0.0\n",
      "  Downloading click-8.1.3-py3-none-any.whl (96 kB)\n",
      "\u001b[K     |████████████████████████████████| 96 kB 6.2 MB/s  eta 0:00:01\n",
      "\u001b[?25hCollecting typed-ast>=1.4.2; python_version < \"3.8\" and implementation_name == \"cpython\"\n",
      "  Downloading typed_ast-1.5.4-cp37-cp37m-manylinux_2_5_x86_64.manylinux1_x86_64.manylinux_2_12_x86_64.manylinux2010_x86_64.whl (843 kB)\n",
      "\u001b[K     |████████████████████████████████| 843 kB 40.5 MB/s eta 0:00:01\n",
      "\u001b[?25hCollecting mypy-extensions>=0.4.3\n",
      "  Downloading mypy_extensions-0.4.3-py2.py3-none-any.whl (4.5 kB)\n",
      "Requirement already satisfied: typing-extensions>=3.10.0.0; python_version < \"3.10\" in /root/.local/lib/python3.7/site-packages (from black>='19.3'->nb_black) (4.4.0)\n",
      "Collecting pathspec>=0.9.0\n",
      "  Downloading pathspec-0.10.2-py3-none-any.whl (28 kB)\n",
      "Requirement already satisfied: ipython-genutils in /opt/conda/lib/python3.7/site-packages (from traitlets>=4.2->ipython->nb_black) (0.2.0)\n",
      "Requirement already satisfied: six in /opt/conda/lib/python3.7/site-packages (from traitlets>=4.2->ipython->nb_black) (1.16.0)\n",
      "Requirement already satisfied: wcwidth in /opt/conda/lib/python3.7/site-packages (from prompt-toolkit!=3.0.0,!=3.0.1,<3.1.0,>=2.0.0->ipython->nb_black) (0.1.8)\n",
      "Requirement already satisfied: parso>=0.5.2 in /opt/conda/lib/python3.7/site-packages (from jedi>=0.10->ipython->nb_black) (0.6.1)\n",
      "Requirement already satisfied: ptyprocess>=0.5 in /opt/conda/lib/python3.7/site-packages (from pexpect; sys_platform != \"win32\"->ipython->nb_black) (0.6.0)\n",
      "Requirement already satisfied: importlib-metadata; python_version < \"3.8\" in /opt/conda/lib/python3.7/site-packages (from click>=8.0.0->black>='19.3'->nb_black) (1.5.0)\n",
      "Requirement already satisfied: zipp>=0.5 in /opt/conda/lib/python3.7/site-packages (from importlib-metadata; python_version < \"3.8\"->click>=8.0.0->black>='19.3'->nb_black) (3.0.0)\n",
      "Building wheels for collected packages: nb-black\n",
      "  Building wheel for nb-black (setup.py) ... \u001b[?25ldone\n",
      "\u001b[?25h  Created wheel for nb-black: filename=nb_black-1.0.7-py3-none-any.whl size=5280 sha256=64568864610bd62497e2ca9fc2ca742d6ed0f2281354e01080e161b262066ec3\n",
      "  Stored in directory: /root/.cache/pip/wheels/1e/b2/88/51c66d23ea5fd0d40ed50997555e15d981d92671376a9a412a\n",
      "Successfully built nb-black\n",
      "Installing collected packages: tomli, platformdirs, click, typed-ast, mypy-extensions, pathspec, black, nb-black\n",
      "\u001b[33m  WARNING: The scripts black and blackd are installed in '/root/.local/bin' which is not on PATH.\n",
      "  Consider adding this directory to PATH or, if you prefer to suppress this warning, use --no-warn-script-location.\u001b[0m\n",
      "Successfully installed black-22.10.0 click-8.1.3 mypy-extensions-0.4.3 nb-black-1.0.7 pathspec-0.10.2 platformdirs-2.5.4 tomli-2.0.1 typed-ast-1.5.4\n",
      "Defaulting to user installation because normal site-packages is not writeable\n",
      "Collecting ipywidgets==7.4.2\n",
      "  Downloading ipywidgets-7.4.2-py2.py3-none-any.whl (111 kB)\n",
      "\u001b[K     |████████████████████████████████| 111 kB 5.1 MB/s eta 0:00:01\n",
      "\u001b[?25hRequirement already satisfied: ipykernel>=4.5.1 in /opt/conda/lib/python3.7/site-packages (from ipywidgets==7.4.2) (5.1.4)\n",
      "Requirement already satisfied: ipython>=4.0.0; python_version >= \"3.3\" in /opt/conda/lib/python3.7/site-packages (from ipywidgets==7.4.2) (7.13.0)\n",
      "Requirement already satisfied: traitlets>=4.3.1 in /opt/conda/lib/python3.7/site-packages (from ipywidgets==7.4.2) (4.3.3)\n",
      "Collecting widgetsnbextension~=3.4.0\n",
      "  Downloading widgetsnbextension-3.4.2-py2.py3-none-any.whl (2.2 MB)\n",
      "\u001b[K     |████████████████████████████████| 2.2 MB 17.1 MB/s eta 0:00:01     |██████████████████              | 1.2 MB 17.1 MB/s eta 0:00:01\n",
      "\u001b[?25hRequirement already satisfied: nbformat>=4.2.0 in /opt/conda/lib/python3.7/site-packages (from ipywidgets==7.4.2) (5.0.4)\n",
      "Requirement already satisfied: tornado>=4.2 in /opt/conda/lib/python3.7/site-packages (from ipykernel>=4.5.1->ipywidgets==7.4.2) (5.1.1)\n",
      "Requirement already satisfied: jupyter-client in /opt/conda/lib/python3.7/site-packages (from ipykernel>=4.5.1->ipywidgets==7.4.2) (6.0.0)\n",
      "Requirement already satisfied: backcall in /opt/conda/lib/python3.7/site-packages (from ipython>=4.0.0; python_version >= \"3.3\"->ipywidgets==7.4.2) (0.1.0)\n",
      "Requirement already satisfied: pickleshare in /opt/conda/lib/python3.7/site-packages (from ipython>=4.0.0; python_version >= \"3.3\"->ipywidgets==7.4.2) (0.7.5)\n",
      "Requirement already satisfied: decorator in /opt/conda/lib/python3.7/site-packages (from ipython>=4.0.0; python_version >= \"3.3\"->ipywidgets==7.4.2) (4.4.2)\n",
      "Requirement already satisfied: pygments in /opt/conda/lib/python3.7/site-packages (from ipython>=4.0.0; python_version >= \"3.3\"->ipywidgets==7.4.2) (2.5.2)\n",
      "Requirement already satisfied: pexpect; sys_platform != \"win32\" in /opt/conda/lib/python3.7/site-packages (from ipython>=4.0.0; python_version >= \"3.3\"->ipywidgets==7.4.2) (4.8.0)\n",
      "Requirement already satisfied: prompt-toolkit!=3.0.0,!=3.0.1,<3.1.0,>=2.0.0 in /opt/conda/lib/python3.7/site-packages (from ipython>=4.0.0; python_version >= \"3.3\"->ipywidgets==7.4.2) (3.0.3)\n",
      "Requirement already satisfied: setuptools>=18.5 in /opt/conda/lib/python3.7/site-packages (from ipython>=4.0.0; python_version >= \"3.3\"->ipywidgets==7.4.2) (45.2.0.post20200209)\n",
      "Requirement already satisfied: jedi>=0.10 in /opt/conda/lib/python3.7/site-packages (from ipython>=4.0.0; python_version >= \"3.3\"->ipywidgets==7.4.2) (0.16.0)\n",
      "Requirement already satisfied: six in /opt/conda/lib/python3.7/site-packages (from traitlets>=4.3.1->ipywidgets==7.4.2) (1.16.0)\n",
      "Requirement already satisfied: ipython-genutils in /opt/conda/lib/python3.7/site-packages (from traitlets>=4.3.1->ipywidgets==7.4.2) (0.2.0)\n",
      "Requirement already satisfied: notebook>=4.4.1 in /opt/conda/lib/python3.7/site-packages (from widgetsnbextension~=3.4.0->ipywidgets==7.4.2) (5.7.4)\n",
      "Requirement already satisfied: jupyter-core in /opt/conda/lib/python3.7/site-packages (from nbformat>=4.2.0->ipywidgets==7.4.2) (4.6.3)\n",
      "Requirement already satisfied: jsonschema!=2.5.0,>=2.4 in /opt/conda/lib/python3.7/site-packages (from nbformat>=4.2.0->ipywidgets==7.4.2) (3.2.0)\n",
      "Requirement already satisfied: python-dateutil>=2.1 in /opt/conda/lib/python3.7/site-packages (from jupyter-client->ipykernel>=4.5.1->ipywidgets==7.4.2) (2.8.1)\n",
      "Requirement already satisfied: pyzmq>=13 in /opt/conda/lib/python3.7/site-packages (from jupyter-client->ipykernel>=4.5.1->ipywidgets==7.4.2) (19.0.0)\n",
      "Requirement already satisfied: ptyprocess>=0.5 in /opt/conda/lib/python3.7/site-packages (from pexpect; sys_platform != \"win32\"->ipython>=4.0.0; python_version >= \"3.3\"->ipywidgets==7.4.2) (0.6.0)\n",
      "Requirement already satisfied: wcwidth in /opt/conda/lib/python3.7/site-packages (from prompt-toolkit!=3.0.0,!=3.0.1,<3.1.0,>=2.0.0->ipython>=4.0.0; python_version >= \"3.3\"->ipywidgets==7.4.2) (0.1.8)\n"
     ]
    },
    {
     "name": "stdout",
     "output_type": "stream",
     "text": [
      "Requirement already satisfied: parso>=0.5.2 in /opt/conda/lib/python3.7/site-packages (from jedi>=0.10->ipython>=4.0.0; python_version >= \"3.3\"->ipywidgets==7.4.2) (0.6.1)\n",
      "Requirement already satisfied: jinja2 in /opt/conda/lib/python3.7/site-packages (from notebook>=4.4.1->widgetsnbextension~=3.4.0->ipywidgets==7.4.2) (2.11.1)\n",
      "Requirement already satisfied: Send2Trash in /opt/conda/lib/python3.7/site-packages (from notebook>=4.4.1->widgetsnbextension~=3.4.0->ipywidgets==7.4.2) (1.5.0)\n",
      "Requirement already satisfied: terminado>=0.8.1 in /opt/conda/lib/python3.7/site-packages (from notebook>=4.4.1->widgetsnbextension~=3.4.0->ipywidgets==7.4.2) (0.8.3)\n",
      "Requirement already satisfied: nbconvert in /opt/conda/lib/python3.7/site-packages (from notebook>=4.4.1->widgetsnbextension~=3.4.0->ipywidgets==7.4.2) (5.6.1)\n",
      "Requirement already satisfied: prometheus-client in /opt/conda/lib/python3.7/site-packages (from notebook>=4.4.1->widgetsnbextension~=3.4.0->ipywidgets==7.4.2) (0.7.1)\n",
      "Requirement already satisfied: attrs>=17.4.0 in /opt/conda/lib/python3.7/site-packages (from jsonschema!=2.5.0,>=2.4->nbformat>=4.2.0->ipywidgets==7.4.2) (19.3.0)\n",
      "Requirement already satisfied: importlib-metadata; python_version < \"3.8\" in /opt/conda/lib/python3.7/site-packages (from jsonschema!=2.5.0,>=2.4->nbformat>=4.2.0->ipywidgets==7.4.2) (1.5.0)\n",
      "Requirement already satisfied: pyrsistent>=0.14.0 in /opt/conda/lib/python3.7/site-packages (from jsonschema!=2.5.0,>=2.4->nbformat>=4.2.0->ipywidgets==7.4.2) (0.15.7)\n",
      "Requirement already satisfied: MarkupSafe>=0.23 in /opt/conda/lib/python3.7/site-packages (from jinja2->notebook>=4.4.1->widgetsnbextension~=3.4.0->ipywidgets==7.4.2) (1.1.1)\n",
      "Requirement already satisfied: defusedxml in /opt/conda/lib/python3.7/site-packages (from nbconvert->notebook>=4.4.1->widgetsnbextension~=3.4.0->ipywidgets==7.4.2) (0.6.0)\n",
      "Requirement already satisfied: pandocfilters>=1.4.1 in /opt/conda/lib/python3.7/site-packages (from nbconvert->notebook>=4.4.1->widgetsnbextension~=3.4.0->ipywidgets==7.4.2) (1.4.2)\n",
      "Requirement already satisfied: mistune<2,>=0.8.1 in /opt/conda/lib/python3.7/site-packages (from nbconvert->notebook>=4.4.1->widgetsnbextension~=3.4.0->ipywidgets==7.4.2) (0.8.4)\n",
      "Requirement already satisfied: entrypoints>=0.2.2 in /opt/conda/lib/python3.7/site-packages (from nbconvert->notebook>=4.4.1->widgetsnbextension~=3.4.0->ipywidgets==7.4.2) (0.3)\n",
      "Requirement already satisfied: testpath in /opt/conda/lib/python3.7/site-packages (from nbconvert->notebook>=4.4.1->widgetsnbextension~=3.4.0->ipywidgets==7.4.2) (0.4.4)\n",
      "Requirement already satisfied: bleach in /opt/conda/lib/python3.7/site-packages (from nbconvert->notebook>=4.4.1->widgetsnbextension~=3.4.0->ipywidgets==7.4.2) (3.1.1)\n",
      "Requirement already satisfied: zipp>=0.5 in /opt/conda/lib/python3.7/site-packages (from importlib-metadata; python_version < \"3.8\"->jsonschema!=2.5.0,>=2.4->nbformat>=4.2.0->ipywidgets==7.4.2) (3.0.0)\n",
      "Requirement already satisfied: webencodings in /opt/conda/lib/python3.7/site-packages (from bleach->nbconvert->notebook>=4.4.1->widgetsnbextension~=3.4.0->ipywidgets==7.4.2) (0.5.1)\n",
      "Installing collected packages: widgetsnbextension, ipywidgets\n",
      "Successfully installed ipywidgets-7.4.2 widgetsnbextension-3.4.2\n"
     ]
    }
   ],
   "source": [
    "!pip install typing-extensions --upgrade\n",
    "!pip install nb_black \n",
    "!pip install ipywidgets==7.4.2"
   ]
  },
  {
   "cell_type": "code",
   "execution_count": 1,
   "metadata": {},
   "outputs": [
    {
     "data": {
      "application/javascript": [
       "\n",
       "            setTimeout(function() {\n",
       "                var nbb_cell_id = 1;\n",
       "                var nbb_unformatted_code = \"%load_ext nb_black\\n\\n## This cell contains the essential imports you will need \\u2013 DO NOT CHANGE THE CONTENTS! ##\\nimport torch\\nimport torch.nn as nn\\nimport torch.nn.functional as F\\nimport torch.optim as optim\\nimport torchvision\\nimport torchvision.transforms as transforms\\nimport matplotlib.pyplot as plt\\nimport numpy as np\";\n",
       "                var nbb_formatted_code = \"%load_ext nb_black\\n\\n## This cell contains the essential imports you will need \\u2013 DO NOT CHANGE THE CONTENTS! ##\\nimport torch\\nimport torch.nn as nn\\nimport torch.nn.functional as F\\nimport torch.optim as optim\\nimport torchvision\\nimport torchvision.transforms as transforms\\nimport matplotlib.pyplot as plt\\nimport numpy as np\";\n",
       "                var nbb_cells = Jupyter.notebook.get_cells();\n",
       "                for (var i = 0; i < nbb_cells.length; ++i) {\n",
       "                    if (nbb_cells[i].input_prompt_number == nbb_cell_id) {\n",
       "                        if (nbb_cells[i].get_text() == nbb_unformatted_code) {\n",
       "                             nbb_cells[i].set_text(nbb_formatted_code);\n",
       "                        }\n",
       "                        break;\n",
       "                    }\n",
       "                }\n",
       "            }, 500);\n",
       "            "
      ],
      "text/plain": [
       "<IPython.core.display.Javascript object>"
      ]
     },
     "metadata": {},
     "output_type": "display_data"
    }
   ],
   "source": [
    "%load_ext nb_black\n",
    "\n",
    "## This cell contains the essential imports you will need – DO NOT CHANGE THE CONTENTS! ##\n",
    "import torch\n",
    "import torch.nn as nn\n",
    "import torch.nn.functional as F\n",
    "import torch.optim as optim\n",
    "import torchvision\n",
    "import torchvision.transforms as transforms\n",
    "import matplotlib.pyplot as plt\n",
    "import numpy as np"
   ]
  },
  {
   "cell_type": "markdown",
   "metadata": {},
   "source": [
    "## Load the Dataset\n",
    "\n",
    "Specify your transforms as a list if you intend to .\n",
    "The transforms module is already loaded as `transforms`.\n",
    "\n",
    "MNIST is fortunately included in the torchvision module.\n",
    "Then, you can create your dataset using the `MNIST` object from `torchvision.datasets` ([the documentation is available here](https://pytorch.org/vision/stable/datasets.html#mnist)).\n",
    "Make sure to specify `download=True`! \n",
    "\n",
    "Once your dataset is created, you'll also need to define a `DataLoader` from the `torch.utils.data` module for both the train and the test set."
   ]
  },
  {
   "cell_type": "code",
   "execution_count": 2,
   "metadata": {},
   "outputs": [
    {
     "data": {
      "application/javascript": [
       "\n",
       "            setTimeout(function() {\n",
       "                var nbb_cell_id = 2;\n",
       "                var nbb_unformatted_code = \"from torch.utils.data import DataLoader\\nfrom torchvision import datasets\";\n",
       "                var nbb_formatted_code = \"from torch.utils.data import DataLoader\\nfrom torchvision import datasets\";\n",
       "                var nbb_cells = Jupyter.notebook.get_cells();\n",
       "                for (var i = 0; i < nbb_cells.length; ++i) {\n",
       "                    if (nbb_cells[i].input_prompt_number == nbb_cell_id) {\n",
       "                        if (nbb_cells[i].get_text() == nbb_unformatted_code) {\n",
       "                             nbb_cells[i].set_text(nbb_formatted_code);\n",
       "                        }\n",
       "                        break;\n",
       "                    }\n",
       "                }\n",
       "            }, 500);\n",
       "            "
      ],
      "text/plain": [
       "<IPython.core.display.Javascript object>"
      ]
     },
     "metadata": {},
     "output_type": "display_data"
    }
   ],
   "source": [
    "from torch.utils.data import DataLoader\n",
    "from torchvision import datasets"
   ]
  },
  {
   "cell_type": "code",
   "execution_count": 3,
   "metadata": {},
   "outputs": [
    {
     "name": "stderr",
     "output_type": "stream",
     "text": [
      "/opt/conda/lib/python3.7/site-packages/torchvision/datasets/mnist.py:498: UserWarning: The given NumPy array is not writable, and PyTorch does not support non-writable tensors. This means writing to this tensor will result in undefined behavior. You may want to copy the array to protect its data or make it writable before converting it to a tensor. This type of warning will be suppressed for the rest of this program. (Triggered internally at  ../torch/csrc/utils/tensor_numpy.cpp:178.)\n",
      "  return torch.from_numpy(parsed.astype(m[2], copy=False)).view(*s)\n"
     ]
    },
    {
     "data": {
      "application/javascript": [
       "\n",
       "            setTimeout(function() {\n",
       "                var nbb_cell_id = 3;\n",
       "                var nbb_unformatted_code = \"# Define transforms\\n## YOUR CODE HERE ##\\ntransform = transforms.Compose(\\n    [transforms.ToTensor(), transforms.Normalize((0.1307,), (0.3081,))]\\n)\\n\\n# Create training set and define training dataloader\\n## YOUR CODE HERE ##\\ntraining_data = datasets.MNIST(\\n    root=\\\"data\\\", train=True, download=True, transform=transform\\n)\\ntrain_loader = DataLoader(training_data, batch_size=64, shuffle=True)\\n\\n# Create test set and define test dataloader\\n## YOUR CODE HERE ##\\ntest_data = datasets.MNIST(root=\\\"data\\\", train=False, download=True, transform=transform)\\ntest_loader = DataLoader(test_data, batch_size=1000)\";\n",
       "                var nbb_formatted_code = \"# Define transforms\\n## YOUR CODE HERE ##\\ntransform = transforms.Compose(\\n    [transforms.ToTensor(), transforms.Normalize((0.1307,), (0.3081,))]\\n)\\n\\n# Create training set and define training dataloader\\n## YOUR CODE HERE ##\\ntraining_data = datasets.MNIST(\\n    root=\\\"data\\\", train=True, download=True, transform=transform\\n)\\ntrain_loader = DataLoader(training_data, batch_size=64, shuffle=True)\\n\\n# Create test set and define test dataloader\\n## YOUR CODE HERE ##\\ntest_data = datasets.MNIST(root=\\\"data\\\", train=False, download=True, transform=transform)\\ntest_loader = DataLoader(test_data, batch_size=1000)\";\n",
       "                var nbb_cells = Jupyter.notebook.get_cells();\n",
       "                for (var i = 0; i < nbb_cells.length; ++i) {\n",
       "                    if (nbb_cells[i].input_prompt_number == nbb_cell_id) {\n",
       "                        if (nbb_cells[i].get_text() == nbb_unformatted_code) {\n",
       "                             nbb_cells[i].set_text(nbb_formatted_code);\n",
       "                        }\n",
       "                        break;\n",
       "                    }\n",
       "                }\n",
       "            }, 500);\n",
       "            "
      ],
      "text/plain": [
       "<IPython.core.display.Javascript object>"
      ]
     },
     "metadata": {},
     "output_type": "display_data"
    }
   ],
   "source": [
    "# Define transforms\n",
    "## YOUR CODE HERE ##\n",
    "transform = transforms.Compose(\n",
    "    [transforms.ToTensor(), transforms.Normalize((0.1307,), (0.3081,))]\n",
    ")\n",
    "\n",
    "# Create training set and define training dataloader\n",
    "## YOUR CODE HERE ##\n",
    "training_data = datasets.MNIST(\n",
    "    root=\"data\", train=True, download=True, transform=transform\n",
    ")\n",
    "train_loader = DataLoader(training_data, batch_size=64, shuffle=True)\n",
    "\n",
    "# Create test set and define test dataloader\n",
    "## YOUR CODE HERE ##\n",
    "test_data = datasets.MNIST(root=\"data\", train=False, download=True, transform=transform)\n",
    "test_loader = DataLoader(test_data, batch_size=1000)"
   ]
  },
  {
   "cell_type": "markdown",
   "metadata": {},
   "source": [
    "## Justify your preprocessing\n",
    "\n",
    "In your own words, why did you choose the transforms you chose? If you didn't use any preprocessing steps, why not?"
   ]
  },
  {
   "cell_type": "markdown",
   "metadata": {},
   "source": [
    "**I chose this transformer in order to normalize each image data to have zero mean and a standard deviation of 1. I selected this way as this is known to facilitate neural network training**"
   ]
  },
  {
   "cell_type": "markdown",
   "metadata": {},
   "source": [
    "## Explore the Dataset\n",
    "Using matplotlib, numpy, and torch, explore the dimensions of your data.\n",
    "\n",
    "You can view images using the `show5` function defined below – it takes a data loader as an argument.\n",
    "Remember that normalized images will look really weird to you! You may want to try changing your transforms to view images.\n",
    "Typically using no transforms other than `toTensor()` works well for viewing – but not as well for training your network.\n",
    "If `show5` doesn't work, go back and check your code for creating your data loaders and your training/test sets."
   ]
  },
  {
   "cell_type": "code",
   "execution_count": 4,
   "metadata": {},
   "outputs": [
    {
     "data": {
      "application/javascript": [
       "\n",
       "            setTimeout(function() {\n",
       "                var nbb_cell_id = 4;\n",
       "                var nbb_unformatted_code = \"## This cell contains a function for showing 5 images from a dataloader \\u2013 DO NOT CHANGE THE CONTENTS! ##\\ndef show5(img_loader):\\n    dataiter = iter(img_loader)\\n\\n    batch = next(dataiter)\\n    labels = batch[1][0:5]\\n    images = batch[0][0:5]\\n    for i in range(5):\\n        print(int(labels[i].detach()))\\n\\n        image = images[i].numpy()\\n        plt.imshow(image.T.squeeze().T)\\n        plt.show()\";\n",
       "                var nbb_formatted_code = \"## This cell contains a function for showing 5 images from a dataloader \\u2013 DO NOT CHANGE THE CONTENTS! ##\\ndef show5(img_loader):\\n    dataiter = iter(img_loader)\\n\\n    batch = next(dataiter)\\n    labels = batch[1][0:5]\\n    images = batch[0][0:5]\\n    for i in range(5):\\n        print(int(labels[i].detach()))\\n\\n        image = images[i].numpy()\\n        plt.imshow(image.T.squeeze().T)\\n        plt.show()\";\n",
       "                var nbb_cells = Jupyter.notebook.get_cells();\n",
       "                for (var i = 0; i < nbb_cells.length; ++i) {\n",
       "                    if (nbb_cells[i].input_prompt_number == nbb_cell_id) {\n",
       "                        if (nbb_cells[i].get_text() == nbb_unformatted_code) {\n",
       "                             nbb_cells[i].set_text(nbb_formatted_code);\n",
       "                        }\n",
       "                        break;\n",
       "                    }\n",
       "                }\n",
       "            }, 500);\n",
       "            "
      ],
      "text/plain": [
       "<IPython.core.display.Javascript object>"
      ]
     },
     "metadata": {},
     "output_type": "display_data"
    }
   ],
   "source": [
    "## This cell contains a function for showing 5 images from a dataloader – DO NOT CHANGE THE CONTENTS! ##\n",
    "def show5(img_loader):\n",
    "    dataiter = iter(img_loader)\n",
    "\n",
    "    batch = next(dataiter)\n",
    "    labels = batch[1][0:5]\n",
    "    images = batch[0][0:5]\n",
    "    for i in range(5):\n",
    "        print(int(labels[i].detach()))\n",
    "\n",
    "        image = images[i].numpy()\n",
    "        plt.imshow(image.T.squeeze().T)\n",
    "        plt.show()"
   ]
  },
  {
   "cell_type": "code",
   "execution_count": 5,
   "metadata": {},
   "outputs": [
    {
     "name": "stdout",
     "output_type": "stream",
     "text": [
      "--------------------Training Data--------------------\n",
      "7\n"
     ]
    },
    {
     "data": {
      "image/png": "[encoded data removed]",
      "text/plain": [
       "<Figure size 432x288 with 1 Axes>"
      ]
     },
     "metadata": {
      "needs_background": "light"
     },
     "output_type": "display_data"
    },
    {
     "name": "stdout",
     "output_type": "stream",
     "text": [
      "5\n"
     ]
    },
    {
     "data": {
      "image/png": "[encoded data removed]",
      "text/plain": [
       "<Figure size 432x288 with 1 Axes>"
      ]
     },
     "metadata": {
      "needs_background": "light"
     },
     "output_type": "display_data"
    },
    {
     "name": "stdout",
     "output_type": "stream",
     "text": [
      "7\n"
     ]
    },
    {
     "data": {
      "image/png": "[encoded data removed]",
      "text/plain": [
       "<Figure size 432x288 with 1 Axes>"
      ]
     },
     "metadata": {
      "needs_background": "light"
     },
     "output_type": "display_data"
    },
    {
     "name": "stdout",
     "output_type": "stream",
     "text": [
      "2\n"
     ]
    },
    {
     "data": {
      "image/png": "[encoded data removed]",
      "text/plain": [
       "<Figure size 432x288 with 1 Axes>"
      ]
     },
     "metadata": {
      "needs_background": "light"
     },
     "output_type": "display_data"
    },
    {
     "name": "stdout",
     "output_type": "stream",
     "text": [
      "3\n"
     ]
    },
    {
     "data": {
      "image/png": "[encoded data removed]",
      "text/plain": [
       "<Figure size 432x288 with 1 Axes>"
      ]
     },
     "metadata": {
      "needs_background": "light"
     },
     "output_type": "display_data"
    },
    {
     "name": "stdout",
     "output_type": "stream",
     "text": [
      "\n",
      "--------------------Testing Data--------------------\n",
      "7\n"
     ]
    },
    {
     "data": {
      "image/png": "[encoded data removed]",
      "text/plain": [
       "<Figure size 432x288 with 1 Axes>"
      ]
     },
     "metadata": {
      "needs_background": "light"
     },
     "output_type": "display_data"
    },
    {
     "name": "stdout",
     "output_type": "stream",
     "text": [
      "2\n"
     ]
    },
    {
     "data": {
      "image/png": "[encoded data removed]",
      "text/plain": [
       "<Figure size 432x288 with 1 Axes>"
      ]
     },
     "metadata": {
      "needs_background": "light"
     },
     "output_type": "display_data"
    },
    {
     "name": "stdout",
     "output_type": "stream",
     "text": [
      "1\n"
     ]
    },
    {
     "data": {
      "image/png": "[encoded data removed]",
      "text/plain": [
       "<Figure size 432x288 with 1 Axes>"
      ]
     },
     "metadata": {
      "needs_background": "light"
     },
     "output_type": "display_data"
    },
    {
     "name": "stdout",
     "output_type": "stream",
     "text": [
      "0\n"
     ]
    },
    {
     "data": {
      "image/png": "[encoded data removed]",
      "text/plain": [
       "<Figure size 432x288 with 1 Axes>"
      ]
     },
     "metadata": {
      "needs_background": "light"
     },
     "output_type": "display_data"
    },
    {
     "name": "stdout",
     "output_type": "stream",
     "text": [
      "4\n"
     ]
    },
    {
     "data": {
      "image/png": "[encoded data removed]",
      "text/plain": [
       "<Figure size 432x288 with 1 Axes>"
      ]
     },
     "metadata": {
      "needs_background": "light"
     },
     "output_type": "display_data"
    },
    {
     "data": {
      "application/javascript": [
       "\n",
       "            setTimeout(function() {\n",
       "                var nbb_cell_id = 5;\n",
       "                var nbb_unformatted_code = \"# Explore data\\n## YOUR CODE HERE ##\\nprint(f\\\"{'-'*20}Training Data{'-'*20}\\\")\\nshow5(train_loader)\\n\\nprint(f\\\"\\\\n{'-'*20}Testing Data{'-'*20}\\\")\\nshow5(test_loader)\";\n",
       "                var nbb_formatted_code = \"# Explore data\\n## YOUR CODE HERE ##\\nprint(f\\\"{'-'*20}Training Data{'-'*20}\\\")\\nshow5(train_loader)\\n\\nprint(f\\\"\\\\n{'-'*20}Testing Data{'-'*20}\\\")\\nshow5(test_loader)\";\n",
       "                var nbb_cells = Jupyter.notebook.get_cells();\n",
       "                for (var i = 0; i < nbb_cells.length; ++i) {\n",
       "                    if (nbb_cells[i].input_prompt_number == nbb_cell_id) {\n",
       "                        if (nbb_cells[i].get_text() == nbb_unformatted_code) {\n",
       "                             nbb_cells[i].set_text(nbb_formatted_code);\n",
       "                        }\n",
       "                        break;\n",
       "                    }\n",
       "                }\n",
       "            }, 500);\n",
       "            "
      ],
      "text/plain": [
       "<IPython.core.display.Javascript object>"
      ]
     },
     "metadata": {},
     "output_type": "display_data"
    }
   ],
   "source": [
    "# Explore data\n",
    "## YOUR CODE HERE ##\n",
    "print(f\"{'-'*20}Training Data{'-'*20}\")\n",
    "show5(train_loader)\n",
    "\n",
    "print(f\"\\n{'-'*20}Testing Data{'-'*20}\")\n",
    "show5(test_loader)"
   ]
  },
  {
   "cell_type": "markdown",
   "metadata": {},
   "source": [
    "## Build your Neural Network\n",
    "Using the layers in `torch.nn` (which has been imported as `nn`) and the `torch.nn.functional` module (imported as `F`), construct a neural network based on the parameters of the dataset.\n",
    "Use any architecture you like. \n",
    "\n",
    "*Note*: If you did not flatten your tensors in your transforms or as part of your preprocessing and you are using only `Linear` layers, make sure to use the `Flatten` layer in your network!"
   ]
  },
  {
   "cell_type": "code",
   "execution_count": 6,
   "metadata": {},
   "outputs": [
    {
     "data": {
      "text/plain": [
       "torch.Size([60000, 28, 28])"
      ]
     },
     "execution_count": 6,
     "metadata": {},
     "output_type": "execute_result"
    },
    {
     "data": {
      "application/javascript": [
       "\n",
       "            setTimeout(function() {\n",
       "                var nbb_cell_id = 6;\n",
       "                var nbb_unformatted_code = \"training_data.data.shape\";\n",
       "                var nbb_formatted_code = \"training_data.data.shape\";\n",
       "                var nbb_cells = Jupyter.notebook.get_cells();\n",
       "                for (var i = 0; i < nbb_cells.length; ++i) {\n",
       "                    if (nbb_cells[i].input_prompt_number == nbb_cell_id) {\n",
       "                        if (nbb_cells[i].get_text() == nbb_unformatted_code) {\n",
       "                             nbb_cells[i].set_text(nbb_formatted_code);\n",
       "                        }\n",
       "                        break;\n",
       "                    }\n",
       "                }\n",
       "            }, 500);\n",
       "            "
      ],
      "text/plain": [
       "<IPython.core.display.Javascript object>"
      ]
     },
     "metadata": {},
     "output_type": "display_data"
    }
   ],
   "source": [
    "training_data.data.shape"
   ]
  },
  {
   "cell_type": "code",
   "execution_count": 7,
   "metadata": {},
   "outputs": [
    {
     "data": {
      "application/javascript": [
       "\n",
       "            setTimeout(function() {\n",
       "                var nbb_cell_id = 7;\n",
       "                var nbb_unformatted_code = \"## YOUR CODE HERE ##\\n# Define the class for your neural network\\nclass Net(nn.Module):\\n    def __init__(self):\\n        super().__init__()\\n        self.activation = F.relu  ## YOUR CODE HERE ##\\n        self.layer1 = nn.Linear(28 * 28, 128)  ## YOUR CODE HERE ##\\n        self.layer2 = nn.Linear(128, 64)  ## YOUR CODE HERE ##\\n        self.layer3 = nn.Linear(64, 10)  ## YOUR CODE HERE ##\\n\\n    def forward(self, x):\\n        x = torch.flatten(x, 1)  # flatten all dimensions except batch\\n        x = self.activation(self.layer1(x))\\n        x = self.activation(self.layer2(x))\\n        x = self.layer3(x)\\n        return x\\n\\n\\n# Instantiate the model\\nnet = Net()\";\n",
       "                var nbb_formatted_code = \"## YOUR CODE HERE ##\\n# Define the class for your neural network\\nclass Net(nn.Module):\\n    def __init__(self):\\n        super().__init__()\\n        self.activation = F.relu  ## YOUR CODE HERE ##\\n        self.layer1 = nn.Linear(28 * 28, 128)  ## YOUR CODE HERE ##\\n        self.layer2 = nn.Linear(128, 64)  ## YOUR CODE HERE ##\\n        self.layer3 = nn.Linear(64, 10)  ## YOUR CODE HERE ##\\n\\n    def forward(self, x):\\n        x = torch.flatten(x, 1)  # flatten all dimensions except batch\\n        x = self.activation(self.layer1(x))\\n        x = self.activation(self.layer2(x))\\n        x = self.layer3(x)\\n        return x\\n\\n\\n# Instantiate the model\\nnet = Net()\";\n",
       "                var nbb_cells = Jupyter.notebook.get_cells();\n",
       "                for (var i = 0; i < nbb_cells.length; ++i) {\n",
       "                    if (nbb_cells[i].input_prompt_number == nbb_cell_id) {\n",
       "                        if (nbb_cells[i].get_text() == nbb_unformatted_code) {\n",
       "                             nbb_cells[i].set_text(nbb_formatted_code);\n",
       "                        }\n",
       "                        break;\n",
       "                    }\n",
       "                }\n",
       "            }, 500);\n",
       "            "
      ],
      "text/plain": [
       "<IPython.core.display.Javascript object>"
      ]
     },
     "metadata": {},
     "output_type": "display_data"
    }
   ],
   "source": [
    "## YOUR CODE HERE ##\n",
    "# Define the class for your neural network\n",
    "class Net(nn.Module):\n",
    "    def __init__(self):\n",
    "        super().__init__()\n",
    "        self.activation = F.relu  ## YOUR CODE HERE ##\n",
    "        self.layer1 = nn.Linear(28 * 28, 128)  ## YOUR CODE HERE ##\n",
    "        self.layer2 = nn.Linear(128, 64)  ## YOUR CODE HERE ##\n",
    "        self.layer3 = nn.Linear(64, 10)  ## YOUR CODE HERE ##\n",
    "\n",
    "    def forward(self, x):\n",
    "        x = torch.flatten(x, 1)  # flatten all dimensions except batch\n",
    "        x = self.activation(self.layer1(x))\n",
    "        x = self.activation(self.layer2(x))\n",
    "        x = self.layer3(x)\n",
    "        return x\n",
    "\n",
    "\n",
    "# Instantiate the model\n",
    "net = Net()"
   ]
  },
  {
   "cell_type": "markdown",
   "metadata": {},
   "source": [
    "Specify a loss function and an optimizer, and instantiate the model.\n",
    "\n",
    "If you use a less common loss function, please note why you chose that loss function in a comment."
   ]
  },
  {
   "cell_type": "code",
   "execution_count": 8,
   "metadata": {},
   "outputs": [
    {
     "data": {
      "application/javascript": [
       "\n",
       "            setTimeout(function() {\n",
       "                var nbb_cell_id = 8;\n",
       "                var nbb_unformatted_code = \"## YOUR CODE HERE ##\\noptimizer = optim.Adam(net.parameters(), lr=0.001)\\ncriterion = nn.CrossEntropyLoss()\";\n",
       "                var nbb_formatted_code = \"## YOUR CODE HERE ##\\noptimizer = optim.Adam(net.parameters(), lr=0.001)\\ncriterion = nn.CrossEntropyLoss()\";\n",
       "                var nbb_cells = Jupyter.notebook.get_cells();\n",
       "                for (var i = 0; i < nbb_cells.length; ++i) {\n",
       "                    if (nbb_cells[i].input_prompt_number == nbb_cell_id) {\n",
       "                        if (nbb_cells[i].get_text() == nbb_unformatted_code) {\n",
       "                             nbb_cells[i].set_text(nbb_formatted_code);\n",
       "                        }\n",
       "                        break;\n",
       "                    }\n",
       "                }\n",
       "            }, 500);\n",
       "            "
      ],
      "text/plain": [
       "<IPython.core.display.Javascript object>"
      ]
     },
     "metadata": {},
     "output_type": "display_data"
    }
   ],
   "source": [
    "## YOUR CODE HERE ##\n",
    "optimizer = optim.Adam(net.parameters(), lr=0.001)\n",
    "criterion = nn.CrossEntropyLoss()"
   ]
  },
  {
   "cell_type": "markdown",
   "metadata": {},
   "source": [
    "## Running your Neural Network\n",
    "Use whatever method you like to train your neural network, and ensure you record the average loss at each epoch. \n",
    "Don't forget to use `torch.device()` and the `.to()` method for both your model and your data if you are using GPU!\n",
    "\n",
    "If you want to print your loss **during** each epoch, you can use the `enumerate` function and print the loss after a set number of batches. 250 batches works well for most people!"
   ]
  },
  {
   "cell_type": "code",
   "execution_count": 35,
   "metadata": {},
   "outputs": [
    {
     "name": "stdout",
     "output_type": "stream",
     "text": [
      "Epoch 1 training accuracy: 99.27% training loss: 0.02207\n",
      "Epoch 1 validation accuracy: 97.90% validation loss: 0.08817\n",
      "Epoch 2 training accuracy: 99.40% training loss: 0.01678\n",
      "Epoch 2 validation accuracy: 97.60% validation loss: 0.10785\n",
      "Epoch 3 training accuracy: 99.38% training loss: 0.01791\n",
      "Epoch 3 validation accuracy: 97.74% validation loss: 0.09939\n",
      "Epoch 4 training accuracy: 99.45% training loss: 0.01594\n",
      "Epoch 4 validation accuracy: 97.58% validation loss: 0.12111\n",
      "Epoch 5 training accuracy: 99.44% training loss: 0.01703\n",
      "Epoch 5 validation accuracy: 97.80% validation loss: 0.09746\n",
      "Epoch 6 training accuracy: 99.50% training loss: 0.01452\n",
      "Epoch 6 validation accuracy: 97.78% validation loss: 0.10514\n",
      "Epoch 7 training accuracy: 99.50% training loss: 0.01491\n",
      "Epoch 7 validation accuracy: 97.47% validation loss: 0.11581\n",
      "Epoch 8 training accuracy: 99.51% training loss: 0.01403\n",
      "Epoch 8 validation accuracy: 97.75% validation loss: 0.12458\n",
      "Epoch 9 training accuracy: 99.54% training loss: 0.01275\n",
      "Epoch 9 validation accuracy: 97.84% validation loss: 0.12133\n",
      "Epoch 10 training accuracy: 99.61% training loss: 0.01268\n",
      "Epoch 10 validation accuracy: 97.94% validation loss: 0.12253\n"
     ]
    },
    {
     "data": {
      "application/javascript": [
       "\n",
       "            setTimeout(function() {\n",
       "                var nbb_cell_id = 35;\n",
       "                var nbb_unformatted_code = \"## YOUR CODE HERE ##\\nnum_epochs = 10\\n\\n# Establish a list for our history\\ntrain_loss_history = list()\\nval_loss_history = list()\\n\\nfor epoch in range(num_epochs):\\n    net.train()\\n    train_loss = 0.0\\n    train_correct = 0\\n    for i, data in enumerate(train_loader):\\n        # data is a list of [inputs, labels]\\n        inputs, labels = data\\n\\n        # Pass to GPU if available.\\n        if torch.cuda.is_available():\\n            inputs, labels = inputs.cuda(), labels.cuda()\\n\\n        optimizer.zero_grad()\\n\\n        outputs = net(inputs)\\n        loss = criterion(outputs, labels)\\n        loss.backward()\\n        optimizer.step()\\n\\n        _, preds = torch.max(outputs.data, 1)\\n        train_correct += (preds == labels).sum().item()\\n        train_loss += loss.item()\\n    print(\\n        f\\\"Epoch {epoch + 1} training accuracy: {train_correct*100/len(train_loader.dataset):.2f}% training loss: {train_loss/len(train_loader):.5f}\\\"\\n    )\\n    train_loss_history.append(train_loss / len(train_loader))\\n\\n    val_loss = 0.0\\n    val_correct = 0\\n    net.eval()\\n    for inputs, labels in test_loader:\\n        if torch.cuda.is_available():\\n            inputs, labels = inputs.cuda(), labels.cuda()\\n\\n        outputs = net(inputs)\\n        loss = criterion(outputs, labels)\\n\\n        _, preds = torch.max(outputs.data, 1)\\n        val_correct += (preds == labels).sum().item()\\n        val_loss += loss.item()\\n    print(\\n        f\\\"Epoch {epoch + 1} validation accuracy: {val_correct*100/len(test_loader.dataset):.2f}% validation loss: {val_loss/len(test_loader):.5f}\\\"\\n    )\\n    val_loss_history.append(val_loss / len(test_loader))\";\n",
       "                var nbb_formatted_code = \"## YOUR CODE HERE ##\\nnum_epochs = 10\\n\\n# Establish a list for our history\\ntrain_loss_history = list()\\nval_loss_history = list()\\n\\nfor epoch in range(num_epochs):\\n    net.train()\\n    train_loss = 0.0\\n    train_correct = 0\\n    for i, data in enumerate(train_loader):\\n        # data is a list of [inputs, labels]\\n        inputs, labels = data\\n\\n        # Pass to GPU if available.\\n        if torch.cuda.is_available():\\n            inputs, labels = inputs.cuda(), labels.cuda()\\n\\n        optimizer.zero_grad()\\n\\n        outputs = net(inputs)\\n        loss = criterion(outputs, labels)\\n        loss.backward()\\n        optimizer.step()\\n\\n        _, preds = torch.max(outputs.data, 1)\\n        train_correct += (preds == labels).sum().item()\\n        train_loss += loss.item()\\n    print(\\n        f\\\"Epoch {epoch + 1} training accuracy: {train_correct*100/len(train_loader.dataset):.2f}% training loss: {train_loss/len(train_loader):.5f}\\\"\\n    )\\n    train_loss_history.append(train_loss / len(train_loader))\\n\\n    val_loss = 0.0\\n    val_correct = 0\\n    net.eval()\\n    for inputs, labels in test_loader:\\n        if torch.cuda.is_available():\\n            inputs, labels = inputs.cuda(), labels.cuda()\\n\\n        outputs = net(inputs)\\n        loss = criterion(outputs, labels)\\n\\n        _, preds = torch.max(outputs.data, 1)\\n        val_correct += (preds == labels).sum().item()\\n        val_loss += loss.item()\\n    print(\\n        f\\\"Epoch {epoch + 1} validation accuracy: {val_correct*100/len(test_loader.dataset):.2f}% validation loss: {val_loss/len(test_loader):.5f}\\\"\\n    )\\n    val_loss_history.append(val_loss / len(test_loader))\";\n",
       "                var nbb_cells = Jupyter.notebook.get_cells();\n",
       "                for (var i = 0; i < nbb_cells.length; ++i) {\n",
       "                    if (nbb_cells[i].input_prompt_number == nbb_cell_id) {\n",
       "                        if (nbb_cells[i].get_text() == nbb_unformatted_code) {\n",
       "                             nbb_cells[i].set_text(nbb_formatted_code);\n",
       "                        }\n",
       "                        break;\n",
       "                    }\n",
       "                }\n",
       "            }, 500);\n",
       "            "
      ],
      "text/plain": [
       "<IPython.core.display.Javascript object>"
      ]
     },
     "metadata": {},
     "output_type": "display_data"
    }
   ],
   "source": [
    "## YOUR CODE HERE ##\n",
    "num_epochs = 10\n",
    "\n",
    "# Establish a list for our history\n",
    "train_loss_history = list()\n",
    "val_loss_history = list()\n",
    "\n",
    "for epoch in range(num_epochs):\n",
    "    net.train()\n",
    "    train_loss = 0.0\n",
    "    train_correct = 0\n",
    "    for i, data in enumerate(train_loader):\n",
    "        # data is a list of [inputs, labels]\n",
    "        inputs, labels = data\n",
    "\n",
    "        # Pass to GPU if available.\n",
    "        if torch.cuda.is_available():\n",
    "            inputs, labels = inputs.cuda(), labels.cuda()\n",
    "\n",
    "        optimizer.zero_grad()\n",
    "\n",
    "        outputs = net(inputs)\n",
    "        loss = criterion(outputs, labels)\n",
    "        loss.backward()\n",
    "        optimizer.step()\n",
    "\n",
    "        _, preds = torch.max(outputs.data, 1)\n",
    "        train_correct += (preds == labels).sum().item()\n",
    "        train_loss += loss.item()\n",
    "    print(\n",
    "        f\"Epoch {epoch + 1} training accuracy: {train_correct*100/len(train_loader.dataset):.2f}% training loss: {train_loss/len(train_loader):.5f}\"\n",
    "    )\n",
    "    train_loss_history.append(train_loss / len(train_loader))\n",
    "\n",
    "    val_loss = 0.0\n",
    "    val_correct = 0\n",
    "    net.eval()\n",
    "    for inputs, labels in test_loader:\n",
    "        if torch.cuda.is_available():\n",
    "            inputs, labels = inputs.cuda(), labels.cuda()\n",
    "\n",
    "        outputs = net(inputs)\n",
    "        loss = criterion(outputs, labels)\n",
    "\n",
    "        _, preds = torch.max(outputs.data, 1)\n",
    "        val_correct += (preds == labels).sum().item()\n",
    "        val_loss += loss.item()\n",
    "    print(\n",
    "        f\"Epoch {epoch + 1} validation accuracy: {val_correct*100/len(test_loader.dataset):.2f}% validation loss: {val_loss/len(test_loader):.5f}\"\n",
    "    )\n",
    "    val_loss_history.append(val_loss / len(test_loader))"
   ]
  },
  {
   "cell_type": "markdown",
   "metadata": {},
   "source": [
    "Plot the training loss (and validation loss/accuracy, if recorded)."
   ]
  },
  {
   "cell_type": "code",
   "execution_count": 36,
   "metadata": {},
   "outputs": [
    {
     "data": {
      "image/png": "[encoded data removed]",
      "text/plain": [
       "<Figure size 432x288 with 1 Axes>"
      ]
     },
     "metadata": {
      "needs_background": "light"
     },
     "output_type": "display_data"
    },
    {
     "data": {
      "application/javascript": [
       "\n",
       "            setTimeout(function() {\n",
       "                var nbb_cell_id = 36;\n",
       "                var nbb_unformatted_code = \"## YOUR CODE HERE ##\\n# Plot the training and validation loss history\\nplt.plot(train_loss_history, label=\\\"Training Loss\\\")\\nplt.plot(val_loss_history, label=\\\"Validation Loss\\\")\\nplt.legend()\\nplt.show()\";\n",
       "                var nbb_formatted_code = \"## YOUR CODE HERE ##\\n# Plot the training and validation loss history\\nplt.plot(train_loss_history, label=\\\"Training Loss\\\")\\nplt.plot(val_loss_history, label=\\\"Validation Loss\\\")\\nplt.legend()\\nplt.show()\";\n",
       "                var nbb_cells = Jupyter.notebook.get_cells();\n",
       "                for (var i = 0; i < nbb_cells.length; ++i) {\n",
       "                    if (nbb_cells[i].input_prompt_number == nbb_cell_id) {\n",
       "                        if (nbb_cells[i].get_text() == nbb_unformatted_code) {\n",
       "                             nbb_cells[i].set_text(nbb_formatted_code);\n",
       "                        }\n",
       "                        break;\n",
       "                    }\n",
       "                }\n",
       "            }, 500);\n",
       "            "
      ],
      "text/plain": [
       "<IPython.core.display.Javascript object>"
      ]
     },
     "metadata": {},
     "output_type": "display_data"
    }
   ],
   "source": [
    "## YOUR CODE HERE ##\n",
    "# Plot the training and validation loss history\n",
    "plt.plot(train_loss_history, label=\"Training Loss\")\n",
    "plt.plot(val_loss_history, label=\"Validation Loss\")\n",
    "plt.legend()\n",
    "plt.show()"
   ]
  },
  {
   "cell_type": "markdown",
   "metadata": {},
   "source": [
    "## Testing your model\n",
    "Using the previously created `DataLoader` for the test set, compute the percentage of correct predictions using the highest probability prediction. \n",
    "\n",
    "If your accuracy is over 90%, great work, but see if you can push a bit further! \n",
    "If your accuracy is under 90%, you'll need to make improvements.\n",
    "Go back and check your model architecture, loss function, and optimizer to make sure they're appropriate for an image classification task."
   ]
  },
  {
   "cell_type": "code",
   "execution_count": 37,
   "metadata": {},
   "outputs": [
    {
     "name": "stdout",
     "output_type": "stream",
     "text": [
      "Validation accuracy: 97.94% \n"
     ]
    },
    {
     "data": {
      "application/javascript": [
       "\n",
       "            setTimeout(function() {\n",
       "                var nbb_cell_id = 37;\n",
       "                var nbb_unformatted_code = \"## YOUR CODE HERE ##\\nval_correct = 0\\nfor inputs, labels in test_loader:\\n    if torch.cuda.is_available():\\n        inputs, labels = inputs.cuda(), labels.cuda()\\n\\n    outputs = net(inputs)\\n    \\n    _, preds = torch.max(outputs.data, 1)\\n    val_correct += (preds == labels).sum().item()\\nprint(\\n    f\\\"Validation accuracy: {val_correct*100/len(test_loader.dataset):.2f}% \\\"\\n)\";\n",
       "                var nbb_formatted_code = \"## YOUR CODE HERE ##\\nval_correct = 0\\nfor inputs, labels in test_loader:\\n    if torch.cuda.is_available():\\n        inputs, labels = inputs.cuda(), labels.cuda()\\n\\n    outputs = net(inputs)\\n\\n    _, preds = torch.max(outputs.data, 1)\\n    val_correct += (preds == labels).sum().item()\\nprint(f\\\"Validation accuracy: {val_correct*100/len(test_loader.dataset):.2f}% \\\")\";\n",
       "                var nbb_cells = Jupyter.notebook.get_cells();\n",
       "                for (var i = 0; i < nbb_cells.length; ++i) {\n",
       "                    if (nbb_cells[i].input_prompt_number == nbb_cell_id) {\n",
       "                        if (nbb_cells[i].get_text() == nbb_unformatted_code) {\n",
       "                             nbb_cells[i].set_text(nbb_formatted_code);\n",
       "                        }\n",
       "                        break;\n",
       "                    }\n",
       "                }\n",
       "            }, 500);\n",
       "            "
      ],
      "text/plain": [
       "<IPython.core.display.Javascript object>"
      ]
     },
     "metadata": {},
     "output_type": "display_data"
    }
   ],
   "source": [
    "## YOUR CODE HERE ##\n",
    "val_correct = 0\n",
    "for inputs, labels in test_loader:\n",
    "    if torch.cuda.is_available():\n",
    "        inputs, labels = inputs.cuda(), labels.cuda()\n",
    "\n",
    "    outputs = net(inputs)\n",
    "\n",
    "    _, preds = torch.max(outputs.data, 1)\n",
    "    val_correct += (preds == labels).sum().item()\n",
    "print(f\"Validation accuracy: {val_correct*100/len(test_loader.dataset):.2f}% \")"
   ]
  },
  {
   "cell_type": "markdown",
   "metadata": {},
   "source": [
    "## Improving your model\n",
    "\n",
    "Once your model is done training, try tweaking your hyperparameters and training again below to improve your accuracy on the test set!"
   ]
  },
  {
   "cell_type": "code",
   "execution_count": 49,
   "metadata": {},
   "outputs": [
    {
     "data": {
      "application/javascript": [
       "\n",
       "            setTimeout(function() {\n",
       "                var nbb_cell_id = 49;\n",
       "                var nbb_unformatted_code = \"## YOUR CODE HERE ##\\n# Define the class for your neural network\\nclass Net(nn.Module):\\n    def __init__(self):\\n        super().__init__()\\n        self.activation = F.relu  ## YOUR CODE HERE ##\\n        self.layer1 = nn.Linear(28 * 28, 256)  ## YOUR CODE HERE ##\\n        self.layer2 = nn.Linear(256, 128)  ## YOUR CODE HERE ##\\n        self.layer3 = nn.Linear(128, 64)  ## YOUR CODE HERE ##\\n        self.layer4 = nn.Linear(64, 10)  ## YOUR CODE HERE ##\\n\\n    def forward(self, x):\\n        x = torch.flatten(x, 1)  # flatten all dimensions except batch\\n        x = self.activation(self.layer1(x))\\n        x = self.activation(self.layer2(x))\\n        x = self.activation(self.layer3(x))\\n        x = self.layer4(x)\\n        return x\\n\\n\\n# Instantiate the model\\nnet = Net()\";\n",
       "                var nbb_formatted_code = \"## YOUR CODE HERE ##\\n# Define the class for your neural network\\nclass Net(nn.Module):\\n    def __init__(self):\\n        super().__init__()\\n        self.activation = F.relu  ## YOUR CODE HERE ##\\n        self.layer1 = nn.Linear(28 * 28, 256)  ## YOUR CODE HERE ##\\n        self.layer2 = nn.Linear(256, 128)  ## YOUR CODE HERE ##\\n        self.layer3 = nn.Linear(128, 64)  ## YOUR CODE HERE ##\\n        self.layer4 = nn.Linear(64, 10)  ## YOUR CODE HERE ##\\n\\n    def forward(self, x):\\n        x = torch.flatten(x, 1)  # flatten all dimensions except batch\\n        x = self.activation(self.layer1(x))\\n        x = self.activation(self.layer2(x))\\n        x = self.activation(self.layer3(x))\\n        x = self.layer4(x)\\n        return x\\n\\n\\n# Instantiate the model\\nnet = Net()\";\n",
       "                var nbb_cells = Jupyter.notebook.get_cells();\n",
       "                for (var i = 0; i < nbb_cells.length; ++i) {\n",
       "                    if (nbb_cells[i].input_prompt_number == nbb_cell_id) {\n",
       "                        if (nbb_cells[i].get_text() == nbb_unformatted_code) {\n",
       "                             nbb_cells[i].set_text(nbb_formatted_code);\n",
       "                        }\n",
       "                        break;\n",
       "                    }\n",
       "                }\n",
       "            }, 500);\n",
       "            "
      ],
      "text/plain": [
       "<IPython.core.display.Javascript object>"
      ]
     },
     "metadata": {},
     "output_type": "display_data"
    }
   ],
   "source": [
    "## YOUR CODE HERE ##\n",
    "# Define the class for your neural network\n",
    "class Net(nn.Module):\n",
    "    def __init__(self):\n",
    "        super().__init__()\n",
    "        self.activation = F.relu  ## YOUR CODE HERE ##\n",
    "        self.layer1 = nn.Linear(28 * 28, 256)  ## YOUR CODE HERE ##\n",
    "        self.layer2 = nn.Linear(256, 128)  ## YOUR CODE HERE ##\n",
    "        self.layer3 = nn.Linear(128, 64)  ## YOUR CODE HERE ##\n",
    "        self.layer4 = nn.Linear(64, 10)  ## YOUR CODE HERE ##\n",
    "\n",
    "    def forward(self, x):\n",
    "        x = torch.flatten(x, 1)  # flatten all dimensions except batch\n",
    "        x = self.activation(self.layer1(x))\n",
    "        x = self.activation(self.layer2(x))\n",
    "        x = self.activation(self.layer3(x))\n",
    "        x = self.layer4(x)\n",
    "        return x\n",
    "\n",
    "\n",
    "# Instantiate the model\n",
    "net = Net()"
   ]
  },
  {
   "cell_type": "code",
   "execution_count": 50,
   "metadata": {},
   "outputs": [
    {
     "data": {
      "application/javascript": [
       "\n",
       "            setTimeout(function() {\n",
       "                var nbb_cell_id = 50;\n",
       "                var nbb_unformatted_code = \"## YOUR CODE HERE ##\\noptimizer = optim.Adam(net.parameters(), lr=0.001)\\ncriterion = nn.CrossEntropyLoss()\";\n",
       "                var nbb_formatted_code = \"## YOUR CODE HERE ##\\noptimizer = optim.Adam(net.parameters(), lr=0.001)\\ncriterion = nn.CrossEntropyLoss()\";\n",
       "                var nbb_cells = Jupyter.notebook.get_cells();\n",
       "                for (var i = 0; i < nbb_cells.length; ++i) {\n",
       "                    if (nbb_cells[i].input_prompt_number == nbb_cell_id) {\n",
       "                        if (nbb_cells[i].get_text() == nbb_unformatted_code) {\n",
       "                             nbb_cells[i].set_text(nbb_formatted_code);\n",
       "                        }\n",
       "                        break;\n",
       "                    }\n",
       "                }\n",
       "            }, 500);\n",
       "            "
      ],
      "text/plain": [
       "<IPython.core.display.Javascript object>"
      ]
     },
     "metadata": {},
     "output_type": "display_data"
    }
   ],
   "source": [
    "## YOUR CODE HERE ##\n",
    "optimizer = optim.Adam(net.parameters(), lr=0.001)\n",
    "criterion = nn.CrossEntropyLoss()"
   ]
  },
  {
   "cell_type": "code",
   "execution_count": 51,
   "metadata": {},
   "outputs": [
    {
     "name": "stdout",
     "output_type": "stream",
     "text": [
      "\n",
      "Epoch 1 training accuracy: 92.18% training loss: 0.25355\n",
      "Epoch 1 validation accuracy: 96.44% validation loss: 0.11454\n",
      "\n",
      "Epoch 2 training accuracy: 96.94% training loss: 0.10051\n",
      "Epoch 2 validation accuracy: 97.03% validation loss: 0.09457\n",
      "\n",
      "Epoch 3 training accuracy: 97.75% training loss: 0.07086\n",
      "Epoch 3 validation accuracy: 96.70% validation loss: 0.10112\n",
      "\n",
      "Epoch 4 training accuracy: 98.22% training loss: 0.05386\n",
      "Epoch 4 validation accuracy: 97.46% validation loss: 0.08318\n",
      "\n",
      "Epoch 5 training accuracy: 98.62% training loss: 0.04382\n",
      "Epoch 5 validation accuracy: 97.84% validation loss: 0.07360\n",
      "\n",
      "Epoch 6 training accuracy: 98.76% training loss: 0.03753\n",
      "Epoch 6 validation accuracy: 97.48% validation loss: 0.09236\n",
      "\n",
      "Epoch 7 training accuracy: 98.97% training loss: 0.03224\n",
      "Epoch 7 validation accuracy: 98.07% validation loss: 0.07501\n",
      "\n",
      "Epoch 8 training accuracy: 99.14% training loss: 0.02619\n",
      "Epoch 8 validation accuracy: 97.83% validation loss: 0.07842\n",
      "\n",
      "Epoch 9 training accuracy: 99.24% training loss: 0.02368\n",
      "Epoch 9 validation accuracy: 98.12% validation loss: 0.07735\n",
      "\n",
      "Epoch 10 training accuracy: 99.15% training loss: 0.02516\n",
      "Epoch 10 validation accuracy: 97.91% validation loss: 0.08766\n"
     ]
    },
    {
     "data": {
      "application/javascript": [
       "\n",
       "            setTimeout(function() {\n",
       "                var nbb_cell_id = 51;\n",
       "                var nbb_unformatted_code = \"## YOUR CODE HERE ##\\nnum_epochs = 10\\n\\n# Establish a list for our history\\ntrain_loss_history = list()\\nval_loss_history = list()\\n\\nfor epoch in range(num_epochs):\\n    net.train()\\n    train_loss = 0.0\\n    train_correct = 0\\n    for i, data in enumerate(train_loader):\\n        # data is a list of [inputs, labels]\\n        inputs, labels = data\\n\\n        # Pass to GPU if available.\\n        if torch.cuda.is_available():\\n            inputs, labels = inputs.cuda(), labels.cuda()\\n\\n        optimizer.zero_grad()\\n\\n        outputs = net(inputs)\\n        loss = criterion(outputs, labels)\\n        loss.backward()\\n        optimizer.step()\\n\\n        _, preds = torch.max(outputs.data, 1)\\n        train_correct += (preds == labels).sum().item()\\n        train_loss += loss.item()\\n    print(\\n        f\\\"\\\\nEpoch {epoch + 1} training accuracy: {train_correct*100/len(train_loader.dataset):.2f}% training loss: {train_loss/len(train_loader):.5f}\\\"\\n    )\\n    train_loss_history.append(train_loss / len(train_loader))\\n\\n    val_loss = 0.0\\n    val_correct = 0\\n    net.eval()\\n    for inputs, labels in test_loader:\\n        if torch.cuda.is_available():\\n            inputs, labels = inputs.cuda(), labels.cuda()\\n\\n        outputs = net(inputs)\\n        loss = criterion(outputs, labels)\\n\\n        _, preds = torch.max(outputs.data, 1)\\n        val_correct += (preds == labels).sum().item()\\n        val_loss += loss.item()\\n    print(\\n        f\\\"Epoch {epoch + 1} validation accuracy: {val_correct*100/len(test_loader.dataset):.2f}% validation loss: {val_loss/len(test_loader):.5f}\\\"\\n    )\\n    val_loss_history.append(val_loss / len(test_loader))\";\n",
       "                var nbb_formatted_code = \"## YOUR CODE HERE ##\\nnum_epochs = 10\\n\\n# Establish a list for our history\\ntrain_loss_history = list()\\nval_loss_history = list()\\n\\nfor epoch in range(num_epochs):\\n    net.train()\\n    train_loss = 0.0\\n    train_correct = 0\\n    for i, data in enumerate(train_loader):\\n        # data is a list of [inputs, labels]\\n        inputs, labels = data\\n\\n        # Pass to GPU if available.\\n        if torch.cuda.is_available():\\n            inputs, labels = inputs.cuda(), labels.cuda()\\n\\n        optimizer.zero_grad()\\n\\n        outputs = net(inputs)\\n        loss = criterion(outputs, labels)\\n        loss.backward()\\n        optimizer.step()\\n\\n        _, preds = torch.max(outputs.data, 1)\\n        train_correct += (preds == labels).sum().item()\\n        train_loss += loss.item()\\n    print(\\n        f\\\"\\\\nEpoch {epoch + 1} training accuracy: {train_correct*100/len(train_loader.dataset):.2f}% training loss: {train_loss/len(train_loader):.5f}\\\"\\n    )\\n    train_loss_history.append(train_loss / len(train_loader))\\n\\n    val_loss = 0.0\\n    val_correct = 0\\n    net.eval()\\n    for inputs, labels in test_loader:\\n        if torch.cuda.is_available():\\n            inputs, labels = inputs.cuda(), labels.cuda()\\n\\n        outputs = net(inputs)\\n        loss = criterion(outputs, labels)\\n\\n        _, preds = torch.max(outputs.data, 1)\\n        val_correct += (preds == labels).sum().item()\\n        val_loss += loss.item()\\n    print(\\n        f\\\"Epoch {epoch + 1} validation accuracy: {val_correct*100/len(test_loader.dataset):.2f}% validation loss: {val_loss/len(test_loader):.5f}\\\"\\n    )\\n    val_loss_history.append(val_loss / len(test_loader))\";\n",
       "                var nbb_cells = Jupyter.notebook.get_cells();\n",
       "                for (var i = 0; i < nbb_cells.length; ++i) {\n",
       "                    if (nbb_cells[i].input_prompt_number == nbb_cell_id) {\n",
       "                        if (nbb_cells[i].get_text() == nbb_unformatted_code) {\n",
       "                             nbb_cells[i].set_text(nbb_formatted_code);\n",
       "                        }\n",
       "                        break;\n",
       "                    }\n",
       "                }\n",
       "            }, 500);\n",
       "            "
      ],
      "text/plain": [
       "<IPython.core.display.Javascript object>"
      ]
     },
     "metadata": {},
     "output_type": "display_data"
    }
   ],
   "source": [
    "## YOUR CODE HERE ##\n",
    "num_epochs = 10\n",
    "\n",
    "# Establish a list for our history\n",
    "train_loss_history = list()\n",
    "val_loss_history = list()\n",
    "\n",
    "for epoch in range(num_epochs):\n",
    "    net.train()\n",
    "    train_loss = 0.0\n",
    "    train_correct = 0\n",
    "    for i, data in enumerate(train_loader):\n",
    "        # data is a list of [inputs, labels]\n",
    "        inputs, labels = data\n",
    "\n",
    "        # Pass to GPU if available.\n",
    "        if torch.cuda.is_available():\n",
    "            inputs, labels = inputs.cuda(), labels.cuda()\n",
    "\n",
    "        optimizer.zero_grad()\n",
    "\n",
    "        outputs = net(inputs)\n",
    "        loss = criterion(outputs, labels)\n",
    "        loss.backward()\n",
    "        optimizer.step()\n",
    "\n",
    "        _, preds = torch.max(outputs.data, 1)\n",
    "        train_correct += (preds == labels).sum().item()\n",
    "        train_loss += loss.item()\n",
    "    print(\n",
    "        f\"\\nEpoch {epoch + 1} training accuracy: {train_correct*100/len(train_loader.dataset):.2f}% training loss: {train_loss/len(train_loader):.5f}\"\n",
    "    )\n",
    "    train_loss_history.append(train_loss / len(train_loader))\n",
    "\n",
    "    val_loss = 0.0\n",
    "    val_correct = 0\n",
    "    net.eval()\n",
    "    for inputs, labels in test_loader:\n",
    "        if torch.cuda.is_available():\n",
    "            inputs, labels = inputs.cuda(), labels.cuda()\n",
    "\n",
    "        outputs = net(inputs)\n",
    "        loss = criterion(outputs, labels)\n",
    "\n",
    "        _, preds = torch.max(outputs.data, 1)\n",
    "        val_correct += (preds == labels).sum().item()\n",
    "        val_loss += loss.item()\n",
    "    print(\n",
    "        f\"Epoch {epoch + 1} validation accuracy: {val_correct*100/len(test_loader.dataset):.2f}% validation loss: {val_loss/len(test_loader):.5f}\"\n",
    "    )\n",
    "    val_loss_history.append(val_loss / len(test_loader))"
   ]
  },
  {
   "cell_type": "markdown",
   "metadata": {},
   "source": [
    "## Saving your model\n",
    "Using `torch.save`, save your model for future loading."
   ]
  },
  {
   "cell_type": "code",
   "execution_count": 54,
   "metadata": {},
   "outputs": [
    {
     "data": {
      "application/javascript": [
       "\n",
       "            setTimeout(function() {\n",
       "                var nbb_cell_id = 54;\n",
       "                var nbb_unformatted_code = \"## YOUR CODE HERE ##\\ntorch.save(net.state_dict(), \\\"results/model.pth\\\")\";\n",
       "                var nbb_formatted_code = \"## YOUR CODE HERE ##\\ntorch.save(net.state_dict(), \\\"results/model.pth\\\")\";\n",
       "                var nbb_cells = Jupyter.notebook.get_cells();\n",
       "                for (var i = 0; i < nbb_cells.length; ++i) {\n",
       "                    if (nbb_cells[i].input_prompt_number == nbb_cell_id) {\n",
       "                        if (nbb_cells[i].get_text() == nbb_unformatted_code) {\n",
       "                             nbb_cells[i].set_text(nbb_formatted_code);\n",
       "                        }\n",
       "                        break;\n",
       "                    }\n",
       "                }\n",
       "            }, 500);\n",
       "            "
      ],
      "text/plain": [
       "<IPython.core.display.Javascript object>"
      ]
     },
     "metadata": {},
     "output_type": "display_data"
    }
   ],
   "source": [
    "## YOUR CODE HERE ##\n",
    "torch.save(net.state_dict(), \"results/model.pth\")"
   ]
  }
 ],
 "metadata": {
  "kernelspec": {
   "display_name": "Python 3",
   "language": "python",
   "name": "python3"
  },
  "language_info": {
   "codemirror_mode": {
    "name": "ipython",
    "version": 3
   },
   "file_extension": ".py",
   "mimetype": "text/x-python",
   "name": "python",
   "nbconvert_exporter": "python",
   "pygments_lexer": "ipython3",
   "version": "3.7.6"
  }
 },
 "nbformat": 4,
 "nbformat_minor": 4
}
